{
 "cells": [
  {
   "cell_type": "code",
   "execution_count": 1,
   "metadata": {
    "collapsed": true
   },
   "outputs": [],
   "source": [
    "# Dependencies\n",
    "import pandas as pd\n",
    "import csv\n",
    "import numpy as np\n",
    "%matplotlib inline\n",
    "import matplotlib.pyplot as plt\n",
    "import datetime\n",
    "#from datetime import datetime\n",
    "import calendar #necessary to convert a timestamp into a date\n",
    "#from datetime import datetime\n",
    "import time\n",
    "import seaborn as sns\n",
    "from __future__ import division"
   ]
  },
  {
   "cell_type": "code",
   "execution_count": 2,
   "metadata": {
    "collapsed": false
   },
   "outputs": [],
   "source": [
    "%run '/Users/louis/Documents/DataScience/Reco/processing.py'"
   ]
  },
  {
   "cell_type": "code",
   "execution_count": 3,
   "metadata": {
    "collapsed": false
   },
   "outputs": [],
   "source": [
    "# define paths\n",
    "path_movies = '/Users/louis/Documents/DataScience/Reco/Data/movies.csv'\n",
    "path_ratings = '/Users/louis/Documents/DataScience/Reco/Data/ratings.csv'\n",
    "path_users = '/Users/louis/Documents/DataScience/Reco/Data/users.csv'\n",
    "\n",
    "# process movies\n",
    "data_movies = process_movies(path_movies)\n",
    "# process ratings\n",
    "data_ratings = process_ratings(path_ratings)\n",
    "# merge movies and rating\n",
    "#datam_ratings = data_ratings.merge(data_movies, left_on = 'movies_id', right_on = 'movies_id', how = 'left')\n",
    "# process users info\n",
    "data_users = process_users(path_users)"
   ]
  },
  {
   "cell_type": "code",
   "execution_count": null,
   "metadata": {
    "collapsed": false
   },
   "outputs": [],
   "source": [
    "data_ratings.shape"
   ]
  },
  {
   "cell_type": "markdown",
   "metadata": {},
   "source": [
    "# Descriptive analysis - Movies"
   ]
  },
  {
   "cell_type": "code",
   "execution_count": null,
   "metadata": {
    "collapsed": false
   },
   "outputs": [],
   "source": [
    "# frequence des ratings\n",
    "pivot_rating = pd.pivot_table(datam_ratings, index = 'rating', values = 'user_id', aggfunc = 'count')\n",
    "sns.countplot(data = datam_ratings, x = 'rating')"
   ]
  },
  {
   "cell_type": "code",
   "execution_count": null,
   "metadata": {
    "collapsed": false
   },
   "outputs": [],
   "source": [
    "# number of ratings per category\n",
    "pivot_cat = pd.pivot_table (datam_ratings, index = 'rating', aggfunc = 'sum')[categories].sum()\n",
    "pivot_cat.plot(kind = 'bar')"
   ]
  },
  {
   "cell_type": "code",
   "execution_count": null,
   "metadata": {
    "collapsed": false
   },
   "outputs": [],
   "source": [
    "# ratings per category\n",
    "pivot_cat = pd.pivot_table (datam_ratings, index = 'rating', aggfunc = 'sum')[categories]\n",
    "pivot_cat.plot(kind=\"bar\")"
   ]
  },
  {
   "cell_type": "code",
   "execution_count": null,
   "metadata": {
    "collapsed": false
   },
   "outputs": [],
   "source": [
    "# ratings per category\n",
    "pivot_ratings = pd.pivot_table(datam_ratings, index = 'rating',aggfunc ='sum')[categories]\n",
    "pivot_ratings.head(4)\n",
    "pivot_ratings.plot.bar(stacked = True)"
   ]
  },
  {
   "cell_type": "code",
   "execution_count": null,
   "metadata": {
    "collapsed": false
   },
   "outputs": [],
   "source": [
    "pivot_metrics = pd.pivot_table(datam_ratings, index = 'movies_id', values = 'rating', aggfunc = [np.mean, np.min, np.max, np.median])\n",
    "pivot_metrics.head()"
   ]
  },
  {
   "cell_type": "code",
   "execution_count": null,
   "metadata": {
    "collapsed": true
   },
   "outputs": [],
   "source": [
    "# Compute average rating per category\n",
    "\n",
    "test = test.applymap(lambda x: x.astype(float))\n"
   ]
  },
  {
   "cell_type": "code",
   "execution_count": null,
   "metadata": {
    "collapsed": true
   },
   "outputs": [],
   "source": [
    "df_ratings = datam_ratings[categories]\n",
    "for label in categories:\n",
    "    df_ratings[label] = df_ratings[label].mul(datam_ratings['rating'])\n"
   ]
  },
  {
   "cell_type": "code",
   "execution_count": null,
   "metadata": {
    "collapsed": false
   },
   "outputs": [],
   "source": [
    "df_ratings = df_ratings.replace(0, np.NaN)\n",
    "df_ratings.mean().plot.bar()"
   ]
  },
  {
   "cell_type": "code",
   "execution_count": null,
   "metadata": {
    "collapsed": false
   },
   "outputs": [],
   "source": [
    "ratings_mean.plot(kind=\"bar\")"
   ]
  },
  {
   "cell_type": "markdown",
   "metadata": {},
   "source": [
    "# Descriptive analysis - Users"
   ]
  },
  {
   "cell_type": "code",
   "execution_count": null,
   "metadata": {
    "collapsed": false
   },
   "outputs": [],
   "source": [
    "data_users.head()"
   ]
  },
  {
   "cell_type": "code",
   "execution_count": null,
   "metadata": {
    "collapsed": false
   },
   "outputs": [],
   "source": [
    "g = sns.countplot(data_users['gender'])\n",
    "g.set_title('Distribution of gender')"
   ]
  },
  {
   "cell_type": "code",
   "execution_count": null,
   "metadata": {
    "collapsed": false
   },
   "outputs": [],
   "source": [
    "g = sns.countplot(data_users['age'])\n",
    "g.set_title('Distribution of age buckets')"
   ]
  },
  {
   "cell_type": "code",
   "execution_count": null,
   "metadata": {
    "collapsed": false
   },
   "outputs": [],
   "source": [
    "g = sns.countplot(data_users['occupation'])\n",
    "g.set_title('Distribution of occupations')"
   ]
  },
  {
   "cell_type": "code",
   "execution_count": null,
   "metadata": {
    "collapsed": false
   },
   "outputs": [],
   "source": [
    "# average rating of each age bucket\n",
    "rating_age = data_ratings.merge(data_users, left_on = 'user_id', right_on = 'user_id', how = 'left')\n",
    "sns.barplot(rating_age['age'], rating_age[\"rating\"])\n",
    "#sns.barplot(x, y1, palette=\"BuGn_d\", ax=ax1)"
   ]
  },
  {
   "cell_type": "code",
   "execution_count": null,
   "metadata": {
    "collapsed": false
   },
   "outputs": [],
   "source": [
    "# average rating by occupation\n",
    "sns.barplot(rating_age['occupation'], rating_age[\"rating\"])"
   ]
  },
  {
   "cell_type": "markdown",
   "metadata": {},
   "source": [
    "# Recommendation algorithm (only based on ratings)"
   ]
  },
  {
   "cell_type": "code",
   "execution_count": null,
   "metadata": {
    "collapsed": true
   },
   "outputs": [],
   "source": [
    "# Dependencies\n",
    "import pandas as pd\n",
    "import csv\n",
    "import numpy as np\n",
    "%matplotlib inline\n",
    "import matplotlib.pyplot as plt\n",
    "import datetime\n",
    "#from datetime import datetime\n",
    "import calendar #necessary to convert a timestamp into a date\n",
    "#from datetime import datetime\n",
    "import time\n",
    "import seaborn as sns\n",
    "from __future__ import division\n",
    "from math import sqrt\n",
    "from decimal import *\n",
    "# define precision of floats\n",
    "getcontext().prec = 6"
   ]
  },
  {
   "cell_type": "code",
   "execution_count": null,
   "metadata": {
    "collapsed": false
   },
   "outputs": [],
   "source": [
    "# run processing script\n",
    "%run '/Users/louis/Documents/DataScience/Reco/processing.py'\n",
    "path_ratings = '/Users/louis/Documents/DataScience/Reco/Data/ratings.csv'\n",
    "data_ratings = process_ratings(path_ratings)"
   ]
  },
  {
   "cell_type": "code",
   "execution_count": null,
   "metadata": {
    "collapsed": false
   },
   "outputs": [],
   "source": [
    "%run '/Users/louis/Documents/DataScience/Reco/reco_calc.py'"
   ]
  },
  {
   "cell_type": "code",
   "execution_count": null,
   "metadata": {
    "collapsed": false
   },
   "outputs": [],
   "source": [
    "user_id = 1\n",
    "test_size = 40\n",
    "number_of_users_predicted = 30\n",
    "top_actual = 20\n",
    "top_predicted = 100\n",
    "#metrics = get_metrics(user_id, test_size, data_ratings, top_actual, top_predicted)\n",
    "df_metrics = get_metrics_batch(test_size, number_of_users_predicted, data_ratings, top_actual, top_predicted)"
   ]
  },
  {
   "cell_type": "code",
   "execution_count": null,
   "metadata": {
    "collapsed": false
   },
   "outputs": [],
   "source": [
    "df_metrics.mean()"
   ]
  },
  {
   "cell_type": "code",
   "execution_count": null,
   "metadata": {
    "collapsed": false
   },
   "outputs": [],
   "source": [
    "a = 0\n",
    "a += 1\n",
    "a"
   ]
  },
  {
   "cell_type": "code",
   "execution_count": null,
   "metadata": {
    "collapsed": false
   },
   "outputs": [],
   "source": [
    "print a"
   ]
  },
  {
   "cell_type": "markdown",
   "metadata": {},
   "source": [
    "# K-M on users"
   ]
  },
  {
   "cell_type": "code",
   "execution_count": null,
   "metadata": {
    "collapsed": true
   },
   "outputs": [],
   "source": [
    "# Note: KMeans can fall in local minima, hence should be run several times manually (not a parameter in sklearn)\n",
    "from sklearn.cluster import KMeans\n",
    "from sklearn.preprocessing import scale\n",
    "from matplotlib import pyplot as plt "
   ]
  },
  {
   "cell_type": "code",
   "execution_count": null,
   "metadata": {
    "collapsed": true
   },
   "outputs": [],
   "source": [
    "path_users = '/Users/louis/Documents/DataScience/Reco/Data/users.csv'\n",
    "data_users = process_users(path_users)"
   ]
  },
  {
   "cell_type": "code",
   "execution_count": null,
   "metadata": {
    "collapsed": false
   },
   "outputs": [],
   "source": [
    "data_users.head()"
   ]
  },
  {
   "cell_type": "code",
   "execution_count": null,
   "metadata": {
    "collapsed": true
   },
   "outputs": [],
   "source": [
    "def process_data_users(data):\n",
    "    # dummify\n",
    "    columns_to_dummify = ['age', 'occupation']\n",
    "    data_users = dummify(data, columns_to_dummify)\n",
    "    # drop zip code\n",
    "    del data_users['zip_code']\n",
    "    # clean sex\n",
    "    gender_hash = {'M': 0, 'F': 1}\n",
    "    data_users['gender'] = data_users['gender'].map(gender_hash)\n",
    "    return data_users\n",
    "\n",
    "def dummify(df, column_names):\n",
    "    dummies = pd.get_dummies(df, columns = column_names)\n",
    "    return dummies"
   ]
  },
  {
   "cell_type": "code",
   "execution_count": null,
   "metadata": {
    "collapsed": true
   },
   "outputs": [],
   "source": [
    "# process data_users\n",
    "data_users = process_data_users(data_users)"
   ]
  },
  {
   "cell_type": "code",
   "execution_count": null,
   "metadata": {
    "collapsed": true
   },
   "outputs": [],
   "source": [
    "# Instantiate the model\n",
    "model = KMeans(n_clusters = 3)"
   ]
  },
  {
   "cell_type": "code",
   "execution_count": null,
   "metadata": {
    "collapsed": true
   },
   "outputs": [],
   "source": [
    "# center and normalize\n",
    "data_users_norm = scale(data_users)"
   ]
  },
  {
   "cell_type": "code",
   "execution_count": null,
   "metadata": {
    "collapsed": false
   },
   "outputs": [],
   "source": [
    "model = model.fit(data_users_norm)"
   ]
  },
  {
   "cell_type": "markdown",
   "metadata": {},
   "source": [
    "# Recommendation algorithm (incl users characteristics)"
   ]
  },
  {
   "cell_type": "code",
   "execution_count": 1,
   "metadata": {
    "collapsed": true
   },
   "outputs": [],
   "source": [
    "%run '/Users/louis/Documents/DataScience/Reco/processing.py'"
   ]
  },
  {
   "cell_type": "code",
   "execution_count": 2,
   "metadata": {
    "collapsed": false
   },
   "outputs": [],
   "source": [
    "path_users = '/Users/louis/Documents/DataScience/Reco/Data/users.csv'\n",
    "data_users = process_users(path_users)\n",
    "path_ratings = '/Users/louis/Documents/DataScience/Reco/Data/ratings.csv'\n",
    "data_ratings = process_ratings(path_ratings)"
   ]
  },
  {
   "cell_type": "code",
   "execution_count": 3,
   "metadata": {
    "collapsed": true
   },
   "outputs": [],
   "source": [
    "%run '/Users/louis/Documents/DataScience/Reco/reco_calc.py'"
   ]
  },
  {
   "cell_type": "code",
   "execution_count": null,
   "metadata": {
    "collapsed": false
   },
   "outputs": [],
   "source": [
    "test_size = 10\n",
    "number_of_users_predicted = 20\n",
    "top_actual = 10\n",
    "top_predicted = 50\n",
    "\n",
    "weights = [0.1*i for i in range(0,10)]\n",
    "for weight in weights:\n",
    "    metrics = get_metrics_batch(test_size, number_of_users_predicted, data_ratings, top_actual, top_predicted, data_users, weight)  \n",
    "    print 'Weight on ratings: %s' %weight + '/ ' + 'number_within: %s' %metrics.iloc[0,0] +  '/ ' + 'Mean error: %s' %metrics.iloc[0,1] \n",
    "\n"
   ]
  },
  {
   "cell_type": "code",
   "execution_count": null,
   "metadata": {
    "collapsed": true
   },
   "outputs": [],
   "source": []
  }
 ],
 "metadata": {
  "kernelspec": {
   "display_name": "Python 2",
   "language": "python",
   "name": "python2"
  },
  "language_info": {
   "codemirror_mode": {
    "name": "ipython",
    "version": 2
   },
   "file_extension": ".py",
   "mimetype": "text/x-python",
   "name": "python",
   "nbconvert_exporter": "python",
   "pygments_lexer": "ipython2",
   "version": "2.7.11"
  }
 },
 "nbformat": 4,
 "nbformat_minor": 0
}
